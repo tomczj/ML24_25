{
 "cells": [
  {
   "cell_type": "markdown",
   "id": "c5e1aaae",
   "metadata": {},
   "source": [
    "# Praca domowa z ML numer 12"
   ]
  },
  {
   "cell_type": "markdown",
   "id": "24b14b04",
   "metadata": {},
   "source": [
    "<a href=\"https://colab.research.google.com/github/tomczj/ML24_25/blob/main/NLP_attention/homework_12.ipynb\" target=\"_parent\"><img src=\"https://colab.research.google.com/assets/colab-badge.svg\" alt=\"Open In Colab\"/></a>"
   ]
  },
  {
   "cell_type": "markdown",
   "id": "b8de61d8",
   "metadata": {},
   "source": [
    "## Przygotowanie słów"
   ]
  },
  {
   "cell_type": "code",
   "execution_count": null,
   "id": "7dca9a83",
   "metadata": {},
   "outputs": [],
   "source": [
    "import json\n",
    "import numpy as np\n",
    "import gensim.downloader as api\n",
    "from sklearn.decomposition import PCA\n",
    "from sklearn.preprocessing import StandardScaler\n",
    "from matplotlib.cm import get_cmap\n",
    "from collections import defaultdict"
   ]
  },
  {
   "cell_type": "code",
   "execution_count": 12,
   "id": "e939a01d",
   "metadata": {},
   "outputs": [
    {
     "name": "stdout",
     "output_type": "stream",
     "text": [
      "GENDER:  [['king', 'queen'], ['man', 'woman'], ['prince', 'princess'], ['waiter', 'waitress'], ['actor', 'actress'], ['husband', 'wife'], ['father', 'mother']]\n",
      "COMPARATIVE:  [['big', 'bigger'], ['small', 'smaller'], ['fast', 'faster'], ['slow', 'slower'], ['high', 'higher'], ['low', 'lower'], ['bright', 'brighter']]\n"
     ]
    }
   ],
   "source": [
    "with open(\"semantic_classes.json\", \"r\") as f:\n",
    "    semantic_classes = json.load(f)\n",
    "\n",
    "#przykładowe słowa \n",
    "print(\"GENDER: \",semantic_classes.get(\"gender\"))\n",
    "print(\"COMPARATIVE: \",semantic_classes.get(\"comparative\"))"
   ]
  },
  {
   "cell_type": "markdown",
   "id": "f5d84c36",
   "metadata": {},
   "source": [
    "## Embedding\n",
    "\n",
    "Korzystam z dostępnego modelu wpomninanego w zadaniu - dokładniej GloVe."
   ]
  },
  {
   "cell_type": "code",
   "execution_count": null,
   "id": "7abc2632",
   "metadata": {},
   "outputs": [
    {
     "name": "stdout",
     "output_type": "stream",
     "text": [
      "[==================================================] 100.0% 128.1/128.1MB downloaded\n"
     ]
    },
    {
     "data": {
      "text/plain": [
       "array([-0.32307 , -0.87616 ,  0.21977 ,  0.25268 ,  0.22976 ,  0.7388  ,\n",
       "       -0.37954 , -0.35307 , -0.84369 , -1.1113  , -0.30266 ,  0.33178 ,\n",
       "       -0.25113 ,  0.30448 , -0.077491, -0.89815 ,  0.092496, -1.1407  ,\n",
       "       -0.58324 ,  0.66869 , -0.23122 , -0.95855 ,  0.28262 , -0.078848,\n",
       "        0.75315 ,  0.26584 ,  0.3422  , -0.33949 ,  0.95608 ,  0.065641,\n",
       "        0.45747 ,  0.39835 ,  0.57965 ,  0.39267 , -0.21851 ,  0.58795 ,\n",
       "       -0.55999 ,  0.63368 , -0.043983, -0.68731 , -0.37841 ,  0.38026 ,\n",
       "        0.61641 , -0.88269 , -0.12346 , -0.37928 , -0.38318 ,  0.23868 ,\n",
       "        0.6685  , -0.43321 , -0.11065 ,  0.081723,  1.1569  ,  0.78958 ,\n",
       "       -0.21223 , -2.3211  , -0.67806 ,  0.44561 ,  0.65707 ,  0.1045  ,\n",
       "        0.46217 ,  0.19912 ,  0.25802 ,  0.057194,  0.53443 , -0.43133 ,\n",
       "       -0.34311 ,  0.59789 , -0.58417 ,  0.068995,  0.23944 , -0.85181 ,\n",
       "        0.30379 , -0.34177 , -0.25746 , -0.031101, -0.16285 ,  0.45169 ,\n",
       "       -0.91627 ,  0.64521 ,  0.73281 , -0.22752 ,  0.30226 ,  0.044801,\n",
       "       -0.83741 ,  0.55006 , -0.52506 , -1.7357  ,  0.4751  , -0.70487 ,\n",
       "        0.056939, -0.7132  ,  0.089623,  0.41394 , -1.3363  , -0.61915 ,\n",
       "       -0.33089 , -0.52881 ,  0.16483 , -0.98878 ], dtype=float32)"
      ]
     },
     "execution_count": 13,
     "metadata": {},
     "output_type": "execute_result"
    }
   ],
   "source": [
    "model_glove = api.load(\"glove-wiki-gigaword-100\")"
   ]
  },
  {
   "cell_type": "code",
   "execution_count": null,
   "id": "94a9fbd8",
   "metadata": {},
   "outputs": [],
   "source": [
    "#funkcja do pozyskania embeddingów\n",
    "def get_embeddings(words_list, embedding):\n",
    "    vectors = []\n",
    "    labels = []\n",
    "    for word in words_list:\n",
    "        vec = embedding[word]\n",
    "        if vec is not None:\n",
    "            vectors.append(vec)\n",
    "            labels.append(word)\n",
    "\n",
    "    return np.array(vectors), labels"
   ]
  },
  {
   "cell_type": "code",
   "execution_count": null,
   "id": "060c6ab7",
   "metadata": {},
   "outputs": [],
   "source": [
    "#zapisanie wyrazów do odpowiedniego formatu\n",
    "\n",
    "#chcemy mieć poprawnie zapisane ze słownika w inny sensowny datatype\n",
    "all_words = set()\n",
    "for pairs in semantic_classes.values():\n",
    "    for a, b in pairs:\n",
    "        all_words.add(a.lower())\n",
    "        all_words.add(b.lower())\n",
    "\n",
    "#zapisujemy wyrazy do listy\n",
    "listed_words = list(all_words)"
   ]
  },
  {
   "cell_type": "markdown",
   "id": "d6f0e453",
   "metadata": {},
   "source": [
    "### Globalne PCA"
   ]
  },
  {
   "cell_type": "code",
   "execution_count": null,
   "id": "f9c4108b",
   "metadata": {},
   "outputs": [],
   "source": [
    "#dosatejmy embedding\n",
    "all_vectors, all_labels = get_embeddings(listed_words, model_glove)"
   ]
  },
  {
   "cell_type": "code",
   "execution_count": null,
   "id": "73c9badc",
   "metadata": {},
   "outputs": [],
   "source": [
    "#przypisanie każdemu wyrazowi kalsy, aby potem lepiej zwizualizować to na obrazkach <- czysto wizualne zastosowanie\n",
    "classes = list(semantic_classes.keys())\n",
    "num_classes = len(classes)\n",
    "cmap = get_cmap(\"tab10\")\n",
    "#przypisujemy kolorki dla każdej klasy\n",
    "class_colors = {cls: cmap(i % num_classes) for i, cls in enumerate(classes)}\n",
    "\n",
    "#ponownie identyfikujemy klasę dla każdego słowa <- nie jest to najbardziej optymlane podejście\n",
    "word_to_class = defaultdict(lambda: \"unknown\")\n",
    "for cls, pairs in semantic_classes.items():\n",
    "    for a, b in pairs:\n",
    "        word_to_class[a.lower()] = cls\n",
    "        word_to_class[b.lower()] = cls\n",
    "\n",
    "#kolorki do wykresów\n",
    "colors = [class_colors[word_to_class[word]] for word in all_labels]"
   ]
  },
  {
   "cell_type": "code",
   "execution_count": null,
   "id": "13bf3fb6",
   "metadata": {},
   "outputs": [],
   "source": [
    "#pca i skalowanie wektorów\n",
    "pca = PCA(n_components = 2)\n",
    "scaler = StandardScaler()\n",
    "\n",
    "data = scaler.fit_transform(all_vectors)\n",
    "data_pca = pca.fit_transform(data)"
   ]
  },
  {
   "cell_type": "code",
   "execution_count": null,
   "id": "3c0b904a",
   "metadata": {},
   "outputs": [],
   "source": []
  }
 ],
 "metadata": {
  "kernelspec": {
   "display_name": "Python 3",
   "language": "python",
   "name": "python3"
  },
  "language_info": {
   "codemirror_mode": {
    "name": "ipython",
    "version": 3
   },
   "file_extension": ".py",
   "mimetype": "text/x-python",
   "name": "python",
   "nbconvert_exporter": "python",
   "pygments_lexer": "ipython3",
   "version": "3.12.10"
  }
 },
 "nbformat": 4,
 "nbformat_minor": 5
}
